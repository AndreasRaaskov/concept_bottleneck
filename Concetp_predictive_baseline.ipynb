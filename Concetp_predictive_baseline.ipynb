{
 "cells": [
  {
   "cell_type": "code",
   "execution_count": 3,
   "metadata": {},
   "outputs": [],
   "source": [
    "import os\n",
    "import matplotlib.pyplot as plt\n",
    "import torchvision\n",
    "import torch\n",
    "import pandas as pd\n",
    "import numpy as np\n",
    "\n",
    "from data_loaders import CUB_CtoY_dataset\n",
    "\n",
    "#Import perceptron model\n",
    "from sklearn.linear_model import Perceptron\n",
    "from utils.ploting import plot_family_confusion_matrix"
   ]
  },
  {
   "cell_type": "code",
   "execution_count": 4,
   "metadata": {},
   "outputs": [
    {
     "name": "stdout",
     "output_type": "stream",
     "text": [
      "Perceptron model accuracy:  1.0\n",
      "Top 5 accuracy:  1.0\n"
     ]
    }
   ],
   "source": [
    "#test majority voted dataset\n",
    "#set random seed\n",
    "np.random.seed(1)\n",
    "#Load the dataset\n",
    "majority_config = {'CUB_dir':r'data/CUB_200_2011',\n",
    "                'split_file':r'data/train_test_val.pkl',\n",
    "                'use_majority_voting':True,\n",
    "                'min_class_count':10,\n",
    "                'return_visibility':False}\n",
    "\n",
    "Majority_dataset_train = CUB_CtoY_dataset(mode=\"train\",config_dict=majority_config,transform=None)\n",
    "\n",
    "C_train = []\n",
    "Y_train = []\n",
    "\n",
    "for i in range(len(Majority_dataset_train)):\n",
    "    Ct,Yt_ = Majority_dataset_train.__getitem__(i)\n",
    "    C_train.append(Ct)\n",
    "    Y_train.append(Yt_)\n",
    "\n",
    "C_train = np.array(C_train)\n",
    "Y_train = np.argmax(np.array(Y_train),axis=1) #Convert one hot encoding to class labels\n",
    "\n",
    "#Train the perceptron model\n",
    "perceptron_model = Perceptron()\n",
    "perceptron_model.fit(C_train,Y_train)\n",
    "\n",
    "\n",
    "Majority_dataset_test = CUB_CtoY_dataset(mode=\"test\",config_dict=majority_config,transform=None)\n",
    "\n",
    "C_test = []\n",
    "Y_test = []\n",
    "\n",
    "for i in range(len(Majority_dataset_test)):\n",
    "    Ct,Yt_ = Majority_dataset_test.__getitem__(i)\n",
    "    C_test.append(Ct)\n",
    "    Y_test.append(Yt_)\n",
    "\n",
    "C_test = np.array(C_test)\n",
    "Y_test = np.argmax(np.array(Y_test),axis=1) #Convert one hot encoding to class labels\n",
    "\n",
    "#Test the perceptron model\n",
    "score = perceptron_model.score(C_test,Y_test)\n",
    "print(\"Perceptron model accuracy: \",score)\n",
    "#Se if correct is in the top 5\n",
    "top5 = np.argsort(perceptron_model.decision_function(C_test),axis=1)[:,-5:]\n",
    "\n",
    "correct = 0\n",
    "for i in range(len(Y_test)):\n",
    "    if Y_test[i] in top5[i]:\n",
    "        correct += 1\n",
    "\n",
    "print(\"Top 5 accuracy: \",correct/len(Y_test))"
   ]
  },
  {
   "cell_type": "code",
   "execution_count": 5,
   "metadata": {},
   "outputs": [
    {
     "name": "stdout",
     "output_type": "stream",
     "text": [
      "Perceptron model accuracy:  0.37348981705212286\n",
      "Top 5 accuracy:  0.6216775975146703\n"
     ]
    }
   ],
   "source": [
    "#test majority voted dataset\n",
    "\n",
    "#set random seed\n",
    "np.random.seed(1)\n",
    "\n",
    "#Load the dataset\n",
    "NoNmajority_config = {'CUB_dir':r'data/CUB_200_2011',\n",
    "                'split_file':r'data/train_test_val.pkl',\n",
    "                'use_majority_voting':False,\n",
    "                'min_class_count':10,\n",
    "                'return_visibility':False}\n",
    "\n",
    "NoNMajority_dataset_train = CUB_CtoY_dataset(mode=\"train\",config_dict=NoNmajority_config,transform=None)\n",
    "\n",
    "C_train = []\n",
    "Y_train = []\n",
    "\n",
    "for i in range(len(NoNMajority_dataset_train)):\n",
    "    Ct,Yt_ = NoNMajority_dataset_train.__getitem__(i)\n",
    "    C_train.append(Ct)\n",
    "    Y_train.append(Yt_)\n",
    "\n",
    "C_train = np.array(C_train)\n",
    "Y_train = np.argmax(np.array(Y_train),axis=1) #Convert one hot encoding to class labels\n",
    "\n",
    "#Train the perceptron model\n",
    "perceptron_model = Perceptron()\n",
    "perceptron_model.fit(C_train,Y_train)\n",
    "\n",
    "\n",
    "NoNMajority_dataset_test = CUB_CtoY_dataset(mode=\"test\",config_dict=NoNmajority_config,transform=None)\n",
    "\n",
    "C_test = []\n",
    "Y_test = []\n",
    "\n",
    "for i in range(len(NoNMajority_dataset_test)):\n",
    "    Ct,Yt_ = NoNMajority_dataset_test.__getitem__(i)\n",
    "    C_test.append(Ct)\n",
    "    Y_test.append(Yt_)\n",
    "\n",
    "C_test = np.array(C_test)\n",
    "Y_test = np.argmax(np.array(Y_test),axis=1) #Convert one hot encoding to class labels\n",
    "\n",
    "#Test the perceptron model\n",
    "score = perceptron_model.score(C_test,Y_test)\n",
    "print(\"Perceptron model accuracy: \",score)\n",
    "\n",
    "#Se if correct is in the top 5\n",
    "top5 = np.argsort(perceptron_model.decision_function(C_test),axis=1)[:,-5:]\n",
    "\n",
    "correct = 0\n",
    "for i in range(len(Y_test)):\n",
    "    if Y_test[i] in top5[i]:\n",
    "        correct += 1\n",
    "\n",
    "print(\"Top 5 accuracy: \",correct/len(Y_test))"
   ]
  },
  {
   "cell_type": "code",
   "execution_count": null,
   "metadata": {},
   "outputs": [
    {
     "ename": "TypeError",
     "evalue": "plot_family_confusion_matrix() got an unexpected keyword argument 'save_path'",
     "output_type": "error",
     "traceback": [
      "\u001b[1;31m---------------------------------------------------------------------------\u001b[0m",
      "\u001b[1;31mTypeError\u001b[0m                                 Traceback (most recent call last)",
      "Cell \u001b[1;32mIn[6], line 1\u001b[0m\n\u001b[1;32m----> 1\u001b[0m \u001b[43mplot_family_confusion_matrix\u001b[49m\u001b[43m(\u001b[49m\u001b[43mNoNMajority_dataset_test\u001b[49m\u001b[43m,\u001b[49m\u001b[43mperceptron_model\u001b[49m\u001b[43m,\u001b[49m\u001b[43msave_path\u001b[49m\u001b[38;5;241;43m=\u001b[39;49m\u001b[38;5;124;43m\"\u001b[39;49m\u001b[38;5;124;43mConfusion_matrixs/NoNmajority_X_to_Y_baseline.png\u001b[39;49m\u001b[38;5;124;43m\"\u001b[39;49m\u001b[43m)\u001b[49m\n",
      "\u001b[1;31mTypeError\u001b[0m: plot_family_confusion_matrix() got an unexpected keyword argument 'save_path'"
     ]
    }
   ],
   "source": [
    "cm = \n",
    "plot_family_confusion_matrix(cm, class_names, output_dir=None)"
   ]
  },
  {
   "cell_type": "code",
   "execution_count": null,
   "metadata": {},
   "outputs": [
    {
     "name": "stdout",
     "output_type": "stream",
     "text": [
      "Model accuracy:  0.42153589315525875\n",
      "Top 5 accuracy:  0.7170283806343907\n"
     ]
    }
   ],
   "source": [
    "#Import neural network model from sklearn\n",
    "from sklearn.neural_network import MLPClassifier\n",
    "#set random seed\n",
    "np.random.seed(1)\n",
    "\n",
    "#Train the perceptron model\n",
    "model = MLPClassifier(hidden_layer_sizes=(200,200),max_iter=1000)\n",
    "model.fit(C_train,Y_train)\n",
    "\n",
    "\n",
    "NoNMajority_dataset_Val = CUB_CtoY_dataset(mode=\"val\",config_dict=NoNmajority_config,transform=None)\n",
    "\n",
    "C_test = []\n",
    "Y_test = []\n",
    "\n",
    "for i in range(len(NoNMajority_dataset_Val)):\n",
    "    Ct,Yt_ = NoNMajority_dataset_Val.__getitem__(i)\n",
    "    C_test.append(Ct)\n",
    "    Y_test.append(Yt_)\n",
    "\n",
    "C_test = np.array(C_test)\n",
    "Y_test = np.argmax(np.array(Y_test),axis=1) #Convert one hot encoding to class labels\n",
    "\n",
    "#Test the perceptron model\n",
    "score = model.score(C_test,Y_test)\n",
    "print(\"Model accuracy: \",score)\n",
    "\n",
    "#Se if correct is in the top 5\n",
    "top5 = np.argsort(model.predict_proba(C_test),axis=1)[:,-5:]\n",
    "top5 = np.flip(top5,axis=1) #Flip the array so that the highest probability is first\n",
    "top = np.argmax(model.predict_proba(C_test),axis=1) #Get the top prediction\n",
    "\n",
    "correct = 0\n",
    "for i in range(len(Y_test)):\n",
    "    if Y_test[i] in top5[i]:\n",
    "        correct += 1\n",
    "\n",
    "print(\"Top 5 accuracy: \",correct/len(Y_test))"
   ]
  },
  {
   "cell_type": "code",
   "execution_count": null,
   "metadata": {},
   "outputs": [
    {
     "name": "stdout",
     "output_type": "stream",
     "text": [
      "Model accuracy:  0.4048414023372287\n"
     ]
    }
   ],
   "source": [
    "# Random forest\n",
    "#set random seed\n",
    "np.random.seed(1)\n",
    "\n",
    "from sklearn.ensemble import RandomForestClassifier\n",
    "\n",
    "model = RandomForestClassifier(n_estimators=100)\n",
    "\n",
    "model.fit(C_train,Y_train)\n",
    "\n",
    "score = model.score(C_test,Y_test)\n",
    "print(\"Model accuracy: \",score)"
   ]
  }
 ],
 "metadata": {
  "kernelspec": {
   "display_name": "CBM",
   "language": "python",
   "name": "python3"
  },
  "language_info": {
   "codemirror_mode": {
    "name": "ipython",
    "version": 3
   },
   "file_extension": ".py",
   "mimetype": "text/x-python",
   "name": "python",
   "nbconvert_exporter": "python",
   "pygments_lexer": "ipython3",
   "version": "3.12.7"
  }
 },
 "nbformat": 4,
 "nbformat_minor": 2
}

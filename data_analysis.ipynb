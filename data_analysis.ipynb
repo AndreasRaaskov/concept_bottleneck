{
 "cells": [
  {
   "cell_type": "code",
   "execution_count": 3,
   "metadata": {},
   "outputs": [],
   "source": [
    "import os\n",
    "import matplotlib.pyplot as plt\n",
    "import torchvision\n",
    "import torch\n",
    "import pandas as pd\n",
    "import numpy as np\n",
    "\n",
    "from utils.notebook import display_scrollable_dataframe,plot_sailency\n",
    "from data_loaders import CUB_extnded_dataset\n",
    "from models import get_inception_transform\n",
    "from IPython.display import display\n",
    "\n",
    "from sailency import get_saliency_maps,saliency_score_part"
   ]
  },
  {
   "cell_type": "code",
   "execution_count": 4,
   "metadata": {},
   "outputs": [
    {
     "name": "stdout",
     "output_type": "stream",
     "text": [
      "Base model: 1\n",
      "Base model: 2\n"
     ]
    }
   ],
   "source": [
    "# Settings for the experiment your running\n",
    "data_set = 'val' \n",
    "\n",
    "id = 1 # The id of the image you want to explain\n",
    "\n",
    "# Settings for loading the dataset, make sure its the same as the one used to train the model. \n",
    "model_folder_1 = r\"models\\Sequential_Basemodel1\"\n",
    "model_folder_2 = r\"models\\Sequential_Basemodel2\"\n",
    "\n",
    "base_model_1 = int(model_folder_1[-1])\n",
    "print(f'Base model: {base_model_1}')\n",
    "base_model_2 = int(model_folder_2[-1])\n",
    "print(f'Base model: {base_model_2}')\n",
    "\n",
    "use_majority_voting_1 = True\n",
    "use_majority_voting_2 = False\n",
    "\n",
    "# You can find the settings in the .hydra folders config.yaml \n",
    "data_config_1 = {'CUB_dir':r'data/CUB_200_2011',\n",
    "                'split_file':r'data/train_test_val.pkl',\n",
    "                'use_majority_voting':use_majority_voting_1,\n",
    "                'min_class_count':10,\n",
    "                'return_visibility':True}\n",
    "\n",
    "\n",
    "# You can find the settings in the .hydra folders config.yaml \n",
    "data_config_2 = {'CUB_dir':r'data/CUB_200_2011',\n",
    "                'split_file':r'data/train_test_val.pkl',\n",
    "                'use_majority_voting':use_majority_voting_2,\n",
    "                'min_class_count':10,\n",
    "                'return_visibility':True}"
   ]
  },
  {
   "cell_type": "code",
   "execution_count": 5,
   "metadata": {},
   "outputs": [
    {
     "name": "stdout",
     "output_type": "stream",
     "text": [
      "159 312\n"
     ]
    }
   ],
   "source": [
    "#Define data set, the human transformer data_set is used to get the original images instead of the normalized ones\n",
    "transformer = get_inception_transform(mode='val',methode=\"center\")\n",
    "human_tansform = torchvision.transforms.Compose([torchvision.transforms.CenterCrop(299),torchvision.transforms.ToTensor()])\n",
    "\n",
    "#Get dataset\n",
    "data_1 = CUB_extnded_dataset(mode=data_set,config_dict=data_config_1,transform=transformer)\n",
    "data_2 = CUB_extnded_dataset(mode=data_set,config_dict=data_config_2,transform=transformer)\n",
    "\n",
    "#Get a dataset that return original images instead normalized ones\n",
    "data_human_1 = CUB_extnded_dataset(mode=data_set,config_dict=data_config_1,transform=human_tansform)\n",
    "concept_names_1 = data_1.consept_labels_names\n",
    "class_names_1 = data_1.class_labels_names\n",
    "n_classes_1 = data_1.n_classes\n",
    "n_concepts_1 = data_1.n_concepts\n",
    "\n",
    "data_human_2 = CUB_extnded_dataset(mode=data_set,config_dict=data_config_2,transform=human_tansform)\n",
    "concept_names_2 = data_2.consept_labels_names\n",
    "class_names_2 = data_2.class_labels_names\n",
    "n_classes_2 = data_2.n_classes\n",
    "n_concepts_2 = data_2.n_concepts\n",
    "\n",
    "\n",
    "print(n_concepts_1,n_concepts_2)"
   ]
  },
  {
   "cell_type": "code",
   "execution_count": null,
   "metadata": {},
   "outputs": [
    {
     "name": "stdout",
     "output_type": "stream",
     "text": [
      "torch.Size([3, 299, 299])\n",
      "torch.Size([159])\n",
      "tensor([0., 0., 0., 1., 0., 0., 0., 0., 0., 0., 0., 1., 0., 0., 0., 0., 0., 0.,\n",
      "        0., 1., 0., 0., 0., 0., 0., 0., 1., 0., 0., 1., 0., 0., 0., 0., 0., 0.,\n",
      "        0., 0., 0., 1., 0., 0., 0., 0., 0., 0., 0., 0., 1., 0., 0., 0., 0., 0.,\n",
      "        1., 0., 0., 0., 0., 0., 0., 0., 1., 0., 0., 0., 0., 0., 0., 1., 0., 0.,\n",
      "        0., 1., 1., 0., 0., 0., 0., 0., 0., 0., 1., 0., 0., 0., 0., 0., 0., 1.,\n",
      "        1., 0., 0., 0., 0., 0., 0., 1., 0., 0., 0., 0., 0., 1., 0., 0., 0., 0.,\n",
      "        0., 0., 1., 0., 0., 1., 0., 1., 0., 0., 0., 1., 1., 0., 0., 1., 0., 0.,\n",
      "        0., 0., 0., 0., 0., 0., 0., 1., 0., 0., 0., 0., 0., 1., 0., 0., 1., 0.,\n",
      "        0., 1., 0., 0., 0., 0., 0., 0., 1., 0., 0., 1., 0., 0., 0.])\n",
      "None\n",
      "torch.Size([200])\n",
      "159\n"
     ]
    }
   ],
   "source": [
    "print(data_1[0][0].shape) # image\n",
    "print(data_1[0][1].shape) # concept labels\n",
    "print(data_1[0][2].shape) # class Y_one_hot\n",
    "print(len(data_1[0][3])) # coordinates of the concepts"
   ]
  },
  {
   "cell_type": "code",
   "execution_count": null,
   "metadata": {},
   "outputs": [],
   "source": []
  }
 ],
 "metadata": {
  "kernelspec": {
   "display_name": "con_bot",
   "language": "python",
   "name": "python3"
  },
  "language_info": {
   "codemirror_mode": {
    "name": "ipython",
    "version": 3
   },
   "file_extension": ".py",
   "mimetype": "text/x-python",
   "name": "python",
   "nbconvert_exporter": "python",
   "pygments_lexer": "ipython3",
   "version": "3.12.7"
  }
 },
 "nbformat": 4,
 "nbformat_minor": 2
}
